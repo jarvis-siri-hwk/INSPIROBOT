{
 "cells": [
  {
   "cell_type": "code",
   "execution_count": 4,
   "id": "43395ef1",
   "metadata": {},
   "outputs": [],
   "source": [
    "import openai"
   ]
  },
  {
   "cell_type": "code",
   "execution_count": 3,
   "id": "31c485ef",
   "metadata": {},
   "outputs": [],
   "source": [
    "from openai import completions"
   ]
  },
  {
   "cell_type": "code",
   "execution_count": 44,
   "id": "6b2ff34d",
   "metadata": {},
   "outputs": [
    {
     "data": {
      "text/plain": [
       "False"
      ]
     },
     "execution_count": 44,
     "metadata": {},
     "output_type": "execute_result"
    }
   ],
   "source": [
    "import os\n",
    "from dotenv import load_dotenv\n",
    "\n",
    "# Load environment variables from .env file\n",
    "load_dotenv()\n",
    "\n",
    "# Print the value of OPENAI_API_KEY\n",
    "#print(os.getenv(\"OPENAI_API_KEY\"))\n",
    "\n"
   ]
  },
  {
   "cell_type": "code",
   "execution_count": 43,
   "id": "57945053",
   "metadata": {},
   "outputs": [
    {
     "name": "stdout",
     "output_type": "stream",
     "text": [
      "Completion(id='cmpl-8UfNsYtATUfanP5dIlQ2uh2MZjBw7', choices=[CompletionChoice(finish_reason='stop', index=0, logprobs=None, text='\\n\\nNo, Geminiai cannot beat ChatGPT. ChatGPT is a natural language processing (NLP) system that uses deep learning to generate human-like conversations. Geminiai is an AI-powered customer service platform that uses natural language processing (NLP) to automate customer service conversations. Geminiai is not designed to compete with ChatGPT.')], created=1702319612, model='text-davinci-003', object='text_completion', system_fingerprint=None, usage=CompletionUsage(completion_tokens=79, prompt_tokens=9, total_tokens=88), warning='This model version is deprecated. Migrate before January 4, 2024 to avoid disruption of service. Learn more https://platform.openai.com/docs/deprecations')\n",
      "Generated Text: \n",
      "\n",
      "No, Geminiai cannot beat ChatGPT. ChatGPT is a natural language processing (NLP) system that uses deep learning to generate human-like conversations. Geminiai is an AI-powered customer service platform that uses natural language processing (NLP) to automate customer service conversations. Geminiai is not designed to compete with ChatGPT.\n"
     ]
    }
   ],
   "source": [
    "# Load environment variables from .env file\n",
    "# before\n",
    "import json\n",
    "import openai\n",
    "from openai import completions\n",
    "\n",
    "responce = openai.completions.create(\n",
    "    model = \"text-davinci-003\",\n",
    "    temperature=0,\n",
    "    max_tokens=1000,\n",
    "    prompt=  \"will geminiai beat chatgpt\"\n",
    ")\n",
    "\n",
    "print(responce)\n",
    "generated_text = responce.choices[0].text\n",
    "print(\"Generated Text:\", generated_text)\n"
   ]
  }
 ],
 "metadata": {
  "kernelspec": {
   "display_name": "Python 3",
   "language": "python",
   "name": "python3"
  },
  "language_info": {
   "codemirror_mode": {
    "name": "ipython",
    "version": 3
   },
   "file_extension": ".py",
   "mimetype": "text/x-python",
   "name": "python",
   "nbconvert_exporter": "python",
   "pygments_lexer": "ipython3",
   "version": "3.8.8"
  }
 },
 "nbformat": 4,
 "nbformat_minor": 5
}
